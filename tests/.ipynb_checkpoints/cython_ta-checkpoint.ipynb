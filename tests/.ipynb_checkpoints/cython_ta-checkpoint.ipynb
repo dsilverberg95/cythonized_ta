{
 "cells": [
  {
   "cell_type": "code",
   "execution_count": 1,
   "id": "6621c91f-25d6-4ab8-815f-5d27035fe649",
   "metadata": {},
   "outputs": [],
   "source": [
    "import os\n",
    "os.environ['LDFLAGS'] = '-Wl,-rpath,/opt/miniconda3/lib'\n",
    "import numpy as np\n",
    "import pandas as pd\n",
    "import talib as ta\n",
    "%load_ext Cython"
   ]
  },
  {
   "cell_type": "code",
   "execution_count": 2,
   "id": "8a0f8aa5-a15d-4118-908e-a1d9030e5be2",
   "metadata": {},
   "outputs": [],
   "source": [
    "np.random.seed(seed=2)\n",
    "lc = np.random.randn(10000000).astype(np.float32)\n",
    "ll = lc - np.random.randint(0, 3, len(lc)).astype(np.float32)\n",
    "lh = lc + np.random.randint(0, 3, len(lc)).astype(np.float32)\n",
    "mc = np.random.randn(100000).astype(np.float32)\n",
    "ml = mc - np.random.randint(0, 3, 100000).astype(np.float32)\n",
    "mh = mc + np.random.randint(0, 3, 100000).astype(np.float32)\n",
    "mtp = 50\n",
    "ltp = 10000\n",
    "sc = np.random.randint(3, 7, 20).astype(np.float64)\n",
    "sl = sc - np.random.randint(0, 3, 20).astype(np.float64)\n",
    "sh = sc + np.random.randint(0, 3, 20).astype(np.float64)\n",
    "stp = 1"
   ]
  },
  {
   "cell_type": "code",
   "execution_count": 4,
   "id": "76bc1348-9b0c-4236-8d0e-cf569bd1ef41",
   "metadata": {},
   "outputs": [
    {
     "name": "stdout",
     "output_type": "stream",
     "text": [
      "Content of stderr:\n",
      "/Users/home/.cache/ipython/cython/_cython_magic_f60d39d7a194427163b6f88b8350f301e37d2c87.c:8370:26: warning: code will never be executed [-Wunreachable-code]\n",
      " 8370 |                 module = PyImport_ImportModuleLevelObject(\n",
      "      |                          ^~~~~~~~~~~~~~~~~~~~~~~~~~~~~~~~\n",
      "1 warning generated.\n",
      "/Users/home/.cache/ipython/cython/_cython_magic_f60d39d7a194427163b6f88b8350f301e37d2c87.c:8370:26: warning: code will never be executed [-Wunreachable-code]\n",
      " 8370 |                 module = PyImport_ImportModuleLevelObject(\n",
      "      |                          ^~~~~~~~~~~~~~~~~~~~~~~~~~~~~~~~\n",
      "1 warning generated."
     ]
    }
   ],
   "source": [
    "%%cython\n",
    "# distutils: define_macros=NPY_NO_DEPRECATED_API=NPY_1_7_API_VERSION\n",
    "import numpy as np\n",
    "cimport numpy as np\n",
    "from cython import boundscheck, wraparound\n",
    "\n",
    "\n",
    "def old_sma(np.ndarray[np.float32_t, ndim=1] input_array, int timeperiod, bint normalize=True, int n_values = 999999999):\n",
    "    cdef int n = len(input_array), i, non_nan_count = 0\n",
    "    cdef np.ndarray[np.float32_t, ndim=1] sma = np.full(n, np.nan, dtype=np.float32)\n",
    "    cdef np.ndarray[np.uint8_t, ndim = 1, cast=True] non_nan_mask = ~np.isnan(input_array)\n",
    "    cdef float sum = 0.0\n",
    "    k = max(timeperiod - 1, n - n_values)\n",
    "    for i in range(k - timeperiod, k):\n",
    "        if non_nan_mask[i]:\n",
    "            sum += input_array[i]\n",
    "            non_nan_count += 1\n",
    "    if normalize:\n",
    "        for i in range(k, n):\n",
    "            new = input_array[i]\n",
    "            if non_nan_mask[i]:\n",
    "                sum += new\n",
    "                non_nan_count += 1\n",
    "            if non_nan_mask[i - timeperiod]:\n",
    "                sum -= input_array[i - timeperiod]\n",
    "                non_nan_count -= 1\n",
    "            if non_nan_count > 0:\n",
    "                sma[i] = ((sum / non_nan_count) - new) / (new if new!=0 else 1e-9)     \n",
    "    else:\n",
    "        for i in range(k, n):\n",
    "            new = input_array[i]\n",
    "            if non_nan_mask[i]:\n",
    "                sum += new\n",
    "                non_nan_count += 1\n",
    "            if non_nan_mask[i - timeperiod]:\n",
    "                sum -= input_array[i - timeperiod]\n",
    "                non_nan_count -= 1\n",
    "            if non_nan_count > 0:\n",
    "                sma[i] = sum / non_nan_count\n",
    "    del input_array\n",
    "    return sma"
   ]
  },
  {
   "cell_type": "code",
   "execution_count": 16,
   "id": "4ef1a675-ab95-47e3-ae95-02209625fa13",
   "metadata": {},
   "outputs": [
    {
     "name": "stdout",
     "output_type": "stream",
     "text": [
      "Content of stderr:\n",
      "/Users/home/.cache/ipython/cython/_cython_magic_8c0b88fc8f45e128ac89ac78ac37bbd0ee8b64ca.c:8374:26: warning: code will never be executed [-Wunreachable-code]\n",
      " 8374 |                 module = PyImport_ImportModuleLevelObject(\n",
      "      |                          ^~~~~~~~~~~~~~~~~~~~~~~~~~~~~~~~\n",
      "1 warning generated.\n",
      "/Users/home/.cache/ipython/cython/_cython_magic_8c0b88fc8f45e128ac89ac78ac37bbd0ee8b64ca.c:8374:26: warning: code will never be executed [-Wunreachable-code]\n",
      " 8374 |                 module = PyImport_ImportModuleLevelObject(\n",
      "      |                          ^~~~~~~~~~~~~~~~~~~~~~~~~~~~~~~~\n",
      "1 warning generated."
     ]
    }
   ],
   "source": [
    "%%cython\n",
    "# distutils: define_macros=NPY_NO_DEPRECATED_API=NPY_1_7_API_VERSION\n",
    "import numpy as np\n",
    "cimport numpy as np\n",
    "from cython import boundscheck, wraparound\n",
    "\n",
    "\n",
    "def new_sma(np.ndarray[np.float32_t, ndim=1] input_array, int timeperiod, bint normalize=True, int n_values = 999999999):\n",
    "    cdef int n = len(input_array), i, non_nan_count = 0\n",
    "    cdef np.ndarray[np.float32_t, ndim=1] sma = np.full(n, np.nan, dtype=np.float32)\n",
    "    cdef np.ndarray[np.uint8_t, ndim = 1, cast=True] non_nan_mask = ~np.isnan(input_array)\n",
    "    cdef np.ndarray[np.uint8_t, ndim = 1, cast=True] non_zero_mask = (input_array != 0)\n",
    "    cdef float sum = 0.0\n",
    "    k = max(timeperiod - 1, n - n_values)\n",
    "    for i in range(k - timeperiod, k):\n",
    "        if non_nan_mask[i]:\n",
    "            sum += input_array[i]\n",
    "            non_nan_count += 1\n",
    "    if normalize:\n",
    "        for i in range(k, n):\n",
    "            new = input_array[i]\n",
    "            if non_nan_mask[i]:\n",
    "                sum += new\n",
    "                non_nan_count += 1\n",
    "            if non_nan_mask[i - timeperiod]:\n",
    "                sum -= input_array[i - timeperiod]\n",
    "                non_nan_count -= 1\n",
    "            if non_nan_count > 0:\n",
    "                sma[i] = ((sum / non_nan_count) - new) / (new if non_zero_mask[i] else 1e-9)     \n",
    "    else:\n",
    "        for i in range(k, n):\n",
    "            new = input_array[i]\n",
    "            if non_nan_mask[i]:\n",
    "                sum += new\n",
    "                non_nan_count += 1\n",
    "            if non_nan_mask[i - timeperiod]:\n",
    "                sum -= input_array[i - timeperiod]\n",
    "                non_nan_count -= 1\n",
    "            if non_nan_count > 0:\n",
    "                sma[i] = sum / non_nan_count\n",
    "    del input_array\n",
    "    return sma"
   ]
  },
  {
   "cell_type": "code",
   "execution_count": 17,
   "id": "a0b1286a-08b1-47c6-a70e-981a20608689",
   "metadata": {
    "scrolled": true
   },
   "outputs": [
    {
     "name": "stdout",
     "output_type": "stream",
     "text": [
      "CPU times: user 345 ms, sys: 12.2 ms, total: 357 ms\n",
      "Wall time: 354 ms\n"
     ]
    },
    {
     "data": {
      "text/plain": [
       "array([        nan,         nan,         nan, ..., -1.0025734 ,\n",
       "       -0.9657553 , -0.99808013], dtype=float32)"
      ]
     },
     "execution_count": 17,
     "metadata": {},
     "output_type": "execute_result"
    }
   ],
   "source": [
    "%%time\n",
    "old_sma(lc, timeperiod=ltp, normalize=True)"
   ]
  },
  {
   "cell_type": "code",
   "execution_count": 19,
   "id": "2f1799b7-37b2-4db1-9c7c-26adb3899d54",
   "metadata": {},
   "outputs": [
    {
     "name": "stdout",
     "output_type": "stream",
     "text": [
      "CPU times: user 186 ms, sys: 3.84 ms, total: 190 ms\n",
      "Wall time: 185 ms\n"
     ]
    },
    {
     "data": {
      "text/plain": [
       "array([       nan,        nan,        nan, ..., 0.00213734, 0.00204398,\n",
       "       0.00207519], dtype=float32)"
      ]
     },
     "execution_count": 19,
     "metadata": {},
     "output_type": "execute_result"
    }
   ],
   "source": [
    "%%time\n",
    "old_sma(lc, timeperiod=ltp, normalize=False)"
   ]
  },
  {
   "cell_type": "code",
   "execution_count": 18,
   "id": "3afe54e0-c0f5-4138-af80-cad4d6db685d",
   "metadata": {},
   "outputs": [
    {
     "name": "stdout",
     "output_type": "stream",
     "text": [
      "CPU times: user 384 ms, sys: 12.5 ms, total: 397 ms\n",
      "Wall time: 393 ms\n"
     ]
    },
    {
     "data": {
      "text/plain": [
       "array([        nan,         nan,         nan, ..., -1.0025734 ,\n",
       "       -0.9657553 , -0.99808013], dtype=float32)"
      ]
     },
     "execution_count": 18,
     "metadata": {},
     "output_type": "execute_result"
    }
   ],
   "source": [
    "%%time\n",
    "new_sma(lc, timeperiod=ltp, normalize=True)"
   ]
  },
  {
   "cell_type": "code",
   "execution_count": 20,
   "id": "37284ce5-1963-4bf2-bbe5-0edf04eae8db",
   "metadata": {},
   "outputs": [
    {
     "name": "stdout",
     "output_type": "stream",
     "text": [
      "CPU times: user 192 ms, sys: 16.4 ms, total: 209 ms\n",
      "Wall time: 203 ms\n"
     ]
    },
    {
     "data": {
      "text/plain": [
       "array([       nan,        nan,        nan, ..., 0.00213734, 0.00204398,\n",
       "       0.00207519], dtype=float32)"
      ]
     },
     "execution_count": 20,
     "metadata": {},
     "output_type": "execute_result"
    }
   ],
   "source": [
    "%%time\n",
    "new_sma(lc, timeperiod=ltp, normalize=False)"
   ]
  },
  {
   "cell_type": "code",
   "execution_count": null,
   "id": "7ed2671f-49d7-4972-896e-ac891d618196",
   "metadata": {},
   "outputs": [],
   "source": []
  }
 ],
 "metadata": {
  "kernelspec": {
   "display_name": "Python 3 (ipykernel)",
   "language": "python",
   "name": "python3"
  },
  "language_info": {
   "codemirror_mode": {
    "name": "ipython",
    "version": 3
   },
   "file_extension": ".py",
   "mimetype": "text/x-python",
   "name": "python",
   "nbconvert_exporter": "python",
   "pygments_lexer": "ipython3",
   "version": "3.9.6"
  }
 },
 "nbformat": 4,
 "nbformat_minor": 5
}
