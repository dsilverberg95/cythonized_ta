{
 "cells": [
  {
   "cell_type": "code",
   "execution_count": 5,
   "id": "96fb9af3-8fdd-47ff-9c83-20f8dd9e7938",
   "metadata": {},
   "outputs": [],
   "source": [
    "import cython_ta\n",
    "import talib as ta\n",
    "import numpy as np"
   ]
  },
  {
   "cell_type": "code",
   "execution_count": 2,
   "id": "b5a053fc-44c8-431c-a582-ccde80997359",
   "metadata": {},
   "outputs": [],
   "source": [
    "close = np.random.randn(100000000)\n",
    "length = 10000"
   ]
  },
  {
   "cell_type": "code",
   "execution_count": 12,
   "id": "50874521-4dd8-4bdb-b35d-2b8539173afb",
   "metadata": {},
   "outputs": [
    {
     "name": "stdout",
     "output_type": "stream",
     "text": [
      "CPU times: user 12min 51s, sys: 5.06 s, total: 12min 56s\n",
      "Wall time: 12min 53s\n"
     ]
    },
    {
     "data": {
      "text/plain": [
       "array([           nan,            nan,            nan, ...,\n",
       "       5.62754156e-07, 5.03952857e-07, 4.81603901e-07])"
      ]
     },
     "execution_count": 12,
     "metadata": {},
     "output_type": "execute_result"
    }
   ],
   "source": [
    "%%time\n",
    "\n",
    "ta.LINEARREG_SLOPE(close, length)"
   ]
  },
  {
   "cell_type": "code",
   "execution_count": 9,
   "id": "e56d119d-17e9-40b9-9a58-b19b41261456",
   "metadata": {},
   "outputs": [
    {
     "name": "stdout",
     "output_type": "stream",
     "text": [
      "CPU times: user 221 ms, sys: 58 ms, total: 279 ms\n",
      "Wall time: 276 ms\n"
     ]
    },
    {
     "data": {
      "text/plain": [
       "array([          nan,           nan,           nan, ..., 5.5668734e-06,\n",
       "       5.6332638e-06, 5.6043350e-06], dtype=float32)"
      ]
     },
     "execution_count": 9,
     "metadata": {},
     "output_type": "execute_result"
    }
   ],
   "source": [
    "%%time\n",
    "\n",
    "cython_ta.cython_lin(close.astype(np.float32), length)"
   ]
  },
  {
   "cell_type": "code",
   "execution_count": null,
   "id": "84ccf904-39c7-40ed-bada-dc2e8a9ea9c2",
   "metadata": {},
   "outputs": [],
   "source": []
  }
 ],
 "metadata": {
  "kernelspec": {
   "display_name": "Python 3 (ipykernel)",
   "language": "python",
   "name": "python3"
  },
  "language_info": {
   "codemirror_mode": {
    "name": "ipython",
    "version": 3
   },
   "file_extension": ".py",
   "mimetype": "text/x-python",
   "name": "python",
   "nbconvert_exporter": "python",
   "pygments_lexer": "ipython3",
   "version": "3.13.0"
  }
 },
 "nbformat": 4,
 "nbformat_minor": 5
}
